{
 "cells": [
  {
   "cell_type": "code",
   "execution_count": 10,
   "metadata": {},
   "outputs": [],
   "source": [
    "import pickle\n",
    "import os\n",
    "import sys\n",
    "import torch\n",
    "\n",
    "os.environ[\"CUDA_VISIBLE_DEVICES\"]=\"1\"\n",
    "\n",
    "\n",
    "model = pickle.loads(open('./net_f.pkl', 'rb').read())\n",
    "# model = model.c\n",
    "device = next(model.parameters()).device"
   ]
  },
  {
   "cell_type": "code",
   "execution_count": 16,
   "metadata": {},
   "outputs": [
    {
     "data": {
      "text/plain": [
       "torch.Size([7, 1, 32, 32])"
      ]
     },
     "execution_count": 16,
     "metadata": {},
     "output_type": "execute_result"
    }
   ],
   "source": []
  },
  {
   "cell_type": "code",
   "execution_count": 17,
   "metadata": {},
   "outputs": [
    {
     "data": {
      "text/plain": [
       "6"
      ]
     },
     "execution_count": 17,
     "metadata": {},
     "output_type": "execute_result"
    }
   ],
   "source": [
    "int(sum(p.numel() for p in model.parameters())/1e6)"
   ]
  },
  {
   "cell_type": "code",
   "execution_count": 23,
   "metadata": {},
   "outputs": [
    {
     "name": "stdout",
     "output_type": "stream",
     "text": [
      "{'in_channels': 2, 'model_channels': 64, 'out_channels': 1, 'num_res_blocks': 2, 'attention_resolutions': (0,), 'dropout': 0.0, 'channel_mult': (1, 2, 2), 'num_classes': None, 'use_checkpoint': False, 'num_heads': 4, 'num_heads_upsample': -1, 'use_scale_shift_norm': True}\n"
     ]
    },
    {
     "data": {
      "text/plain": [
       "torch.Size([7, 1, 32, 32])"
      ]
     },
     "execution_count": 23,
     "metadata": {},
     "output_type": "execute_result"
    }
   ],
   "source": [
    "from bridge.models.unet import UNetModel\n",
    "kwargs = {'in_channels': 2, 'model_channels': 64, 'out_channels': 1, 'num_res_blocks': 2, 'attention_resolutions': (0,), 'dropout': 0.0, 'channel_mult': (1, 2, 2), 'num_classes': None, 'use_checkpoint': False, 'num_heads': 4, 'num_heads_upsample': -1, 'use_scale_shift_norm': True}\n",
    "print(kwargs)\n",
    "net_f = UNetModel(**kwargs).to(device)\n",
    "x = torch.rand(7, 2, 32, 32).to(device)\n",
    "t = torch.rand(7).to(device)\n",
    "net_f(x, t).shape"
   ]
  },
  {
   "cell_type": "code",
   "execution_count": null,
   "metadata": {},
   "outputs": [],
   "source": []
  }
 ],
 "metadata": {
  "kernelspec": {
   "display_name": "bridge_test",
   "language": "python",
   "name": "python3"
  },
  "language_info": {
   "codemirror_mode": {
    "name": "ipython",
    "version": 3
   },
   "file_extension": ".py",
   "mimetype": "text/x-python",
   "name": "python",
   "nbconvert_exporter": "python",
   "pygments_lexer": "ipython3",
   "version": "3.8.5"
  },
  "orig_nbformat": 4
 },
 "nbformat": 4,
 "nbformat_minor": 2
}
